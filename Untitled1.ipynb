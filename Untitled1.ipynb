{
 "cells": [
  {
   "cell_type": "code",
   "execution_count": 2,
   "id": "c4158aaf",
   "metadata": {},
   "outputs": [
    {
     "name": "stdout",
     "output_type": "stream",
     "text": [
      "Requirement already satisfied: pytesseract in c:\\users\\himanshuu\\anaconda3\\lib\\site-packages (0.3.8)\n",
      "Requirement already satisfied: PyPDF2 in c:\\users\\himanshuu\\anaconda3\\lib\\site-packages (1.26.0)\n",
      "Requirement already satisfied: Pillow in c:\\users\\himanshuu\\anaconda3\\lib\\site-packages (from pytesseract) (9.4.0)\n"
     ]
    },
    {
     "name": "stderr",
     "output_type": "stream",
     "text": [
      "WARNING: Ignoring invalid distribution -ymongo (c:\\users\\himanshuu\\anaconda3\\lib\\site-packages)\n",
      "WARNING: Ignoring invalid distribution -ymongo (c:\\users\\himanshuu\\anaconda3\\lib\\site-packages)\n",
      "WARNING: Ignoring invalid distribution -ymongo (c:\\users\\himanshuu\\anaconda3\\lib\\site-packages)\n",
      "WARNING: Ignoring invalid distribution -ymongo (c:\\users\\himanshuu\\anaconda3\\lib\\site-packages)\n",
      "WARNING: Ignoring invalid distribution -ymongo (c:\\users\\himanshuu\\anaconda3\\lib\\site-packages)\n",
      "WARNING: Ignoring invalid distribution -ymongo (c:\\users\\himanshuu\\anaconda3\\lib\\site-packages)\n"
     ]
    }
   ],
   "source": [
    "!pip install pytesseract PyPDF2"
   ]
  },
  {
   "cell_type": "code",
   "execution_count": 12,
   "id": "e6c0a4f7",
   "metadata": {},
   "outputs": [
    {
     "ename": "AttributeError",
     "evalue": "'PageObject' object has no attribute 'extract_text'",
     "output_type": "error",
     "traceback": [
      "\u001b[1;31m---------------------------------------------------------------------------\u001b[0m",
      "\u001b[1;31mAttributeError\u001b[0m                            Traceback (most recent call last)",
      "Cell \u001b[1;32mIn[12], line 48\u001b[0m\n\u001b[0;32m     46\u001b[0m \u001b[38;5;28;01mif\u001b[39;00m filename\u001b[38;5;241m.\u001b[39mendswith(\u001b[38;5;124m'\u001b[39m\u001b[38;5;124m.pdf\u001b[39m\u001b[38;5;124m'\u001b[39m):\n\u001b[0;32m     47\u001b[0m     pdf_path \u001b[38;5;241m=\u001b[39m os\u001b[38;5;241m.\u001b[39mpath\u001b[38;5;241m.\u001b[39mjoin(pdf_folder_path, filename)\n\u001b[1;32m---> 48\u001b[0m     extracted_text \u001b[38;5;241m=\u001b[39m \u001b[43mextract_text_from_pdf\u001b[49m\u001b[43m(\u001b[49m\u001b[43mpdf_path\u001b[49m\u001b[43m)\u001b[49m\n\u001b[0;32m     49\u001b[0m     extracted_fields \u001b[38;5;241m=\u001b[39m extract_fields_from_text(extracted_text)\n\u001b[0;32m     50\u001b[0m     \u001b[38;5;28mprint\u001b[39m(\u001b[38;5;124mf\u001b[39m\u001b[38;5;124m\"\u001b[39m\u001b[38;5;124mExtracted fields from \u001b[39m\u001b[38;5;132;01m{\u001b[39;00mfilename\u001b[38;5;132;01m}\u001b[39;00m\u001b[38;5;124m: \u001b[39m\u001b[38;5;132;01m{\u001b[39;00mextracted_fields\u001b[38;5;132;01m}\u001b[39;00m\u001b[38;5;124m\"\u001b[39m)\n",
      "Cell \u001b[1;32mIn[12], line 19\u001b[0m, in \u001b[0;36mextract_text_from_pdf\u001b[1;34m(pdf_path)\u001b[0m\n\u001b[0;32m     17\u001b[0m     \u001b[38;5;28;01mfor\u001b[39;00m page_num \u001b[38;5;129;01min\u001b[39;00m \u001b[38;5;28mrange\u001b[39m(pdf_reader\u001b[38;5;241m.\u001b[39mnumPages):\n\u001b[0;32m     18\u001b[0m         page \u001b[38;5;241m=\u001b[39m pdf_reader\u001b[38;5;241m.\u001b[39mgetPage(page_num)\n\u001b[1;32m---> 19\u001b[0m         pdf_text \u001b[38;5;241m+\u001b[39m\u001b[38;5;241m=\u001b[39m \u001b[43mpage\u001b[49m\u001b[38;5;241;43m.\u001b[39;49m\u001b[43mextract_text\u001b[49m()\n\u001b[0;32m     20\u001b[0m \u001b[38;5;28;01mreturn\u001b[39;00m pdf_text\n",
      "\u001b[1;31mAttributeError\u001b[0m: 'PageObject' object has no attribute 'extract_text'"
     ]
    }
   ],
   "source": [
    "import pytesseract\n",
    "from PIL import Image\n",
    "import PyPDF2\n",
    "import os\n",
    "\n",
    "# Path to the folder containing PDF files\n",
    "pdf_folder_path = 'C:/Users/HIMANSHUU/Desktop/KT randm/pdf project/DSCI560_Lab5'\n",
    "\n",
    "# Path to the Tesseract executable (update this with your Tesseract installation path)\n",
    "pytesseract.pytesseract.tesseract_cmd = r'C:/Program Files/Tesseract-OCR/tesseract.exe'\n",
    "\n",
    "# Function to extract text from PDF using PyPDF2\n",
    "def extract_text_from_pdf(pdf_path):\n",
    "    pdf_text = \"\"\n",
    "    with open(pdf_path, 'rb') as file:\n",
    "        pdf_reader = PyPDF2.PdfFileReader(file)\n",
    "        for page_num in range(pdf_reader.numPages):\n",
    "            page = pdf_reader.getPage(page_num)\n",
    "            pdf_text += page.extract_text()\n",
    "    return pdf_text\n",
    "\n",
    "# Function to extract fields using Tesseract OCR\n",
    "def extract_fields_from_text(text):\n",
    "    extracted_fields = {}\n",
    "    # Define keywords for the fields you want to extract\n",
    "    keywords = ['api', 'longitude', 'latitude', 'well_name', 'well_number', 'county', 'city', 'state', \n",
    "                'zip_code', 'date_stimulated', 'stimulated_formation', 'top_ft', 'bottom_ft', \n",
    "                'stimulation_stages', 'volume', 'volume_units', 'type_treatment', 'acid_percent', \n",
    "                'lbs_proppant', 'maximum_treatment_pressure', 'maximum_treatment_rate', 'details']\n",
    "\n",
    "    for keyword in keywords:\n",
    "        # Tesseract OCR to extract text based on keyword\n",
    "        extracted_text = pytesseract.image_to_string(Image.open(text), config='--psm 6')\n",
    "        if keyword.lower() in extracted_text.lower():\n",
    "            # Extract the line containing the keyword\n",
    "            lines = extracted_text.split('\\n')\n",
    "            for line in lines:\n",
    "                if keyword.lower() in line.lower():\n",
    "                    value = line.replace(keyword, '').strip()\n",
    "                    extracted_fields[keyword] = value\n",
    "                    break\n",
    "    return extracted_fields\n",
    "\n",
    "# Iterate through PDF files in the folder and extract fields\n",
    "for filename in os.listdir(pdf_folder_path):\n",
    "    if filename.endswith('.pdf'):\n",
    "        pdf_path = os.path.join(pdf_folder_path, filename)\n",
    "        extracted_text = extract_text_from_pdf(pdf_path)\n",
    "        extracted_fields = extract_fields_from_text(extracted_text)\n",
    "        print(f\"Extracted fields from {filename}: {extracted_fields}\")\n"
   ]
  }
 ],
 "metadata": {
  "kernelspec": {
   "display_name": "Python 3 (ipykernel)",
   "language": "python",
   "name": "python3"
  },
  "language_info": {
   "codemirror_mode": {
    "name": "ipython",
    "version": 3
   },
   "file_extension": ".py",
   "mimetype": "text/x-python",
   "name": "python",
   "nbconvert_exporter": "python",
   "pygments_lexer": "ipython3",
   "version": "3.8.5"
  }
 },
 "nbformat": 4,
 "nbformat_minor": 5
}
